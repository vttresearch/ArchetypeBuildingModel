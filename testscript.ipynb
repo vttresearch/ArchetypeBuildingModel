{
 "cells": [
  {
   "attachments": {},
   "cell_type": "markdown",
   "metadata": {},
   "source": [
    "# Testscript.ipynb\n",
    "\n",
    "A Jupyter notebook for testing the `ArchetypeBuildingWeather.py` module.\n",
    "Doubles as a *\"tutorial\"* of sorts."
   ]
  },
  {
   "cell_type": "code",
   "execution_count": null,
   "metadata": {},
   "outputs": [],
   "source": [
    "## Import module\n",
    "\n",
    "import archetypebuildingweather as abw"
   ]
  },
  {
   "cell_type": "code",
   "execution_count": null,
   "metadata": {},
   "outputs": [],
   "source": [
    "## Initialize input parameters\n",
    "\n",
    "shapefile_path = \"data/NUTS-Mopo.shp\"\n",
    "raster_path = \"data/gfa_res_curr_density_epsg4326.tif\"\n",
    "weather_start = \"2008-06\"\n",
    "weather_end = \"2008-06\""
   ]
  },
  {
   "cell_type": "code",
   "execution_count": null,
   "metadata": {},
   "outputs": [],
   "source": [
    "## Try creating a `Shapefile` and inspect the uniform raster\n",
    "\n",
    "import matplotlib.pyplot as plt\n",
    "ec = (0,0,0,1) # Edge color for the vector plots (black)\n",
    "fc = (0,0,0,0) # Face color for the vector plots (transparent)\n",
    "lw = 0.2 # Line width for the vector plots\n",
    "\n",
    "shp = abw.Shapefile(shapefile_path)\n",
    "\n",
    "f = abw.plot_layout(shp, shp.raster, title=\"Shapefile\")"
   ]
  },
  {
   "cell_type": "code",
   "execution_count": null,
   "metadata": {},
   "outputs": [],
   "source": [
    "## Try creating the cutout\n",
    "\n",
    "cutout = abw.prepare_cutout(shp, weather_start, weather_end)"
   ]
  },
  {
   "cell_type": "code",
   "execution_count": null,
   "metadata": {},
   "outputs": [],
   "source": [
    "## Create weights for testing.\n",
    "\n",
    "#import random\n",
    "\n",
    "#weights = {'KU005':0.24, 'KU010':0.73, 'KU009':0.03,}\n",
    "#weights = {lid:random.uniform(0,1) for lid in shp.data.index}\n",
    "#weights = {lid:1 for lid in shp.data.index}\n",
    "weights = {\"FI\": 0.9, \"SE\": 0.1}"
   ]
  },
  {
   "cell_type": "code",
   "execution_count": null,
   "metadata": {},
   "outputs": [],
   "source": [
    "## Try preparing the `layout` raster and inspect nonzero data.\n",
    "\n",
    "raster, layout = abw.prepare_layout(shp, cutout, weights, raster_path, resampling=5)"
   ]
  },
  {
   "cell_type": "code",
   "execution_count": null,
   "metadata": {},
   "outputs": [],
   "source": [
    "## Plot the raster and layout\n",
    "\n",
    "#fig1 = abw.plot_layout(shp, raster, title=\"Raster\") # CAUTION! THIS TAKES A WHILE TO PLOT!\n",
    "fig2 = abw.plot_layout(shp, layout, title=\"Layout\")"
   ]
  },
  {
   "cell_type": "code",
   "execution_count": null,
   "metadata": {},
   "outputs": [],
   "source": [
    "## Process weather data for the cutout.\n",
    "\n",
    "ambient_temperature, diffuse_irradiation, direct_irradiation = abw.process_weather(\n",
    "    cutout, layout\n",
    ")"
   ]
  },
  {
   "cell_type": "code",
   "execution_count": null,
   "metadata": {},
   "outputs": [],
   "source": [
    "# Plot temperature\n",
    "\n",
    "ambient_temperature.plot()"
   ]
  },
  {
   "cell_type": "code",
   "execution_count": null,
   "metadata": {},
   "outputs": [],
   "source": [
    "# Plot diffuse irradiation\n",
    "\n",
    "diffuse_irradiation.plot()"
   ]
  },
  {
   "cell_type": "code",
   "execution_count": null,
   "metadata": {},
   "outputs": [],
   "source": [
    "# Plot direct irradiation\n",
    "\n",
    "import pandas as pd\n",
    "\n",
    "pd.DataFrame(direct_irradiation).plot()"
   ]
  },
  {
   "cell_type": "markdown",
   "metadata": {},
   "source": [
    "## Test cutout time ranges\n",
    "\n",
    "`ArchetypeBuildingWeather.py` `v1.1.0` supports reusing cutouts with the same root shapefile, as long as the desired timespan is contained in the cutout already.\n",
    "This functionality is tested below, along with the `aggregate_weather` convenience function."
   ]
  },
  {
   "cell_type": "code",
   "execution_count": null,
   "metadata": {},
   "outputs": [],
   "source": [
    "## The following should process and subsequently plot only the two first days worth of data.\n",
    "\n",
    "weather_start = \"2008-12-30\"\n",
    "weather_end = \"2008-12-31\"\n",
    "temp, dif, dir = abw.aggregate_weather(\n",
    "    shapefile_path, weights, weather_start, weather_end, raster_path\n",
    ")\n",
    "pd.DataFrame(temp).plot()\n",
    "pd.DataFrame(dif).plot()\n",
    "pd.DataFrame(dir).plot()"
   ]
  },
  {
   "cell_type": "code",
   "execution_count": null,
   "metadata": {},
   "outputs": [],
   "source": [
    "## The following should fail due to weather_end exceeding cutout.\n",
    "\n",
    "weather_start = \"2008-12-30\"\n",
    "weather_end_too_far = \"2009-01-01\"\n",
    "temp, dif, dir = abw.aggregate_weather(\n",
    "    shapefile_path, weights, weather_start, weather_end_too_far, raster_path\n",
    ")"
   ]
  },
  {
   "cell_type": "code",
   "execution_count": null,
   "metadata": {},
   "outputs": [],
   "source": []
  }
 ],
 "metadata": {
  "kernelspec": {
   "display_name": "atlitetoolbox",
   "language": "python",
   "name": "python3"
  },
  "language_info": {
   "codemirror_mode": {
    "name": "ipython",
    "version": 3
   },
   "file_extension": ".py",
   "mimetype": "text/x-python",
   "name": "python",
   "nbconvert_exporter": "python",
   "pygments_lexer": "ipython3",
   "version": "3.12.7"
  },
  "orig_nbformat": 4
 },
 "nbformat": 4,
 "nbformat_minor": 2
}
