{
    "cells": [
        {
            "cell_type": "markdown",
            "metadata": {},
            "source": [
                "# Testscript.ipynb\n",
                "\n",
                "A Jupyter notebook for testing the `ArchetypeBuildingWeather.py` module.\n",
                "Doubles as a *\"tutorial\"* of sorts."
            ]
        },
        {
            "cell_type": "code",
            "execution_count": null,
            "metadata": {},
            "outputs": [],
            "source": [
                "## Import module\n",
                "\n",
                "import archetypebuildingweather as abw"
            ]
        },
        {
            "cell_type": "code",
            "execution_count": null,
            "metadata": {},
            "outputs": [],
            "source": [
                "## Initialize input parameters\n",
                "\n",
                "shapefile_path = \"data/FI.shp\"\n",
                "raster_path = \"data/popu01clcv5_epsg4326.tif\"\n",
                "#weights = {'KU005':0.24, 'KU010':0.73, 'KU009':0.03,} # Creating random weights later on.\n",
                "weather_year = \"2010-06\""
            ]
        },
        {
            "cell_type": "code",
            "execution_count": null,
            "metadata": {},
            "outputs": [],
            "source": [
                "## Try creating a `Shapefile` and inspect the uniform raster\n",
                "\n",
                "import matplotlib.pyplot as plt\n",
                "ec = (0,0,0,1) # Edge color for the vector plots (black)\n",
                "fc = (0,0,0,0) # Face color for the vector plots (transparent)\n",
                "lw = 0.2 # Line width for the vector plots\n",
                "\n",
                "shp = abw.Shapefile(shapefile_path)\n",
                "\n",
                "f = abw.plot_layout(shp, shp.raster, dpi=100, title=\"Shapefile\")"
            ]
        },
        {
            "cell_type": "code",
            "execution_count": null,
            "metadata": {},
            "outputs": [],
            "source": [
                "## Create a full-Finland random weights for testing.\n",
                "\n",
                "import random\n",
                "\n",
                "weights = {lid:random.uniform(0,1) for lid in shp.data.index}"
            ]
        },
        {
            "cell_type": "code",
            "execution_count": null,
            "metadata": {},
            "outputs": [],
            "source": [
                "## Try creating the cutout\n",
                "\n",
                "cutout = abw.prepare_cutout(shp, weather_year)"
            ]
        },
        {
            "cell_type": "code",
            "execution_count": null,
            "metadata": {},
            "outputs": [],
            "source": [
                "## Try preparing the `layout` raster and inspect nonzero data.\n",
                "\n",
                "raster = abw.prepare_layout(shp, weights, raster_path, method='mean')\n",
                "f = abw.plot_layout(shp, raster, title=\"Raw weights\")\n",
                "f.savefig(\"figs/weights.png\", dpi=600)"
            ]
        },
        {
            "cell_type": "code",
            "execution_count": null,
            "metadata": {},
            "outputs": [],
            "source": [
                "## Check the coarsened raster without reindexing.\n",
                "\n",
                "rst = abw.coarsen_raster(raster, cutout.data)\n",
                "f = abw.plot_layout(shp, rst, title=\"Coarse weights\")"
            ]
        },
        {
            "cell_type": "code",
            "execution_count": null,
            "metadata": {},
            "outputs": [],
            "source": [
                "## Match the layout to the atlite cutout and inspect nonzero data.\n",
                "\n",
                "layout = abw.match_layout(shp, raster, cutout, reindex_method=\"nearest\")\n",
                "f = abw.plot_layout(shp, layout, title=\"PyPSA/atlite layout\")\n",
                "f.savefig(\"figs/layout.png\", dpi=600)"
            ]
        },
        {
            "cell_type": "code",
            "execution_count": null,
            "metadata": {},
            "outputs": [],
            "source": [
                "## Process weather data for the cutout.\n",
                "\n",
                "ambient_temperature, diffuse_irradiation, direct_irradiation = abw.process_weather(cutout, layout)"
            ]
        },
        {
            "cell_type": "code",
            "execution_count": null,
            "metadata": {},
            "outputs": [],
            "source": [
                "# Plot temperature\n",
                "\n",
                "ambient_temperature.plot()"
            ]
        },
        {
            "cell_type": "code",
            "execution_count": null,
            "metadata": {},
            "outputs": [],
            "source": [
                "# Plot diffuse irradiation\n",
                "\n",
                "diffuse_irradiation.plot()"
            ]
        },
        {
            "cell_type": "code",
            "execution_count": null,
            "metadata": {},
            "outputs": [],
            "source": [
                "# Plot direct irradiation\n",
                "\n",
                "import pandas as pd\n",
                "\n",
                "pd.DataFrame(direct_irradiation).plot()"
            ]
        },
        {
            "cell_type": "code",
            "execution_count": null,
            "metadata": {},
            "outputs": [],
            "source": [
                "## Now do it all again using the convenience function:\n",
                "\n",
                "ambient_temperature, diffuse_irradiation, direct_irradiation = abw.aggregate_weather(shapefile_path, weights, weather_year, raster_path)\n",
                "pd.DataFrame(ambient_temperature).plot()\n",
                "pd.DataFrame(diffuse_irradiation).plot()\n",
                "pd.DataFrame(direct_irradiation).plot()"
            ]
        },
        {
            "cell_type": "code",
            "execution_count": null,
            "metadata": {},
            "outputs": [],
            "source": []
        }
    ],
    "metadata": {
        "interpreter": {
            "hash": "7434f5d3405186255a76da38ed0d5a1cc2c26fc39fd66a8a33cdd9c1e700ee77"
        },
        "kernelspec": {
            "display_name": "Python 3.9.7 64-bit (conda)",
            "language": "python",
            "name": "python3"
        },
        "language_info": {
            "codemirror_mode": {
                "name": "ipython",
                "version": 3
            },
            "file_extension": ".py",
            "mimetype": "text/x-python",
            "name": "python",
            "nbconvert_exporter": "python",
            "pygments_lexer": "ipython3",
            "version": "3.8.12"
        },
        "orig_nbformat": 4
    },
    "nbformat": 4,
    "nbformat_minor": 2
}